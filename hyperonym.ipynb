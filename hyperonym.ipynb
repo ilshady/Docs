{
 "cells": [
  {
   "cell_type": "code",
   "execution_count": 1,
   "metadata": {},
   "outputs": [
    {
     "name": "stdout",
     "output_type": "stream",
     "text": [
      "8\n"
     ]
    }
   ],
   "source": [
    "import pandas as pd\n",
    "import wikipedia\n",
    "import os\n",
    "from tqdm import tqdm\n",
    "from joblib import Parallel, delayed\n",
    "import multiprocessing\n",
    "import networkx as nx\n",
    "import matplotlib.pyplot as plt\n",
    "from collections import defaultdict\n",
    "from ipywidgets import interact, interactive, fixed, interact_manual,widgets\n",
    "from IPython.display import display\n",
    "import json\n",
    "num_cores = multiprocessing.cpu_count()\n",
    "print(num_cores)\n",
    "wikipedia.set_lang(\"ru\")\n",
    "# DATA_PATH_LIST = ['D:','src2','taxonomy-enrichment','data','training_data']\n",
    "DATA_PATH_LIST = ['.']\n",
    "EMBEDDING_MODEL_FILENAME = \"wiki_node2vec.bin\"\n",
    "DATA_PATH=\"/\".join(DATA_PATH_LIST+[\"training_nouns.tsv\"])\n",
    "df = pd.read_csv(DATA_PATH,sep='\\t')\n",
    "%matplotlib inline"
   ]
  },
  {
   "cell_type": "code",
   "execution_count": 2,
   "metadata": {},
   "outputs": [],
   "source": [
    "def prestr(x):\n",
    "    return str(x).replace('\\\"','').replace(\"'\",'\"')"
   ]
  },
  {
   "cell_type": "code",
   "execution_count": 3,
   "metadata": {},
   "outputs": [],
   "source": [
    "class DefDict(defaultdict):\n",
    "    def __missing__(self, key):\n",
    "        self[key] = key\n",
    "        return key\n",
    "    \n",
    "idx2syns = DefDict(lambda x:x)\n",
    "for val in df.values:\n",
    "    idx2syns[val[0]]=val[1]\n",
    "    try:\n",
    "        pidxs = json.loads(prestr(val[2]))\n",
    "        concp = [el.split(\",\")[0] for el in json.loads(prestr(val[3]))]\n",
    "        idx2syns.update(dict(zip(pidxs,concp)))\n",
    "    except:\n",
    "        print(prestr(val[2]))\n",
    "        print(prestr(val[3]))"
   ]
  },
  {
   "cell_type": "code",
   "execution_count": 4,
   "metadata": {},
   "outputs": [
    {
     "data": {
      "application/vnd.jupyter.widget-view+json": {
       "model_id": "841aa547e8694b92870a74ddd830b646",
       "version_major": 2,
       "version_minor": 0
      },
      "text/plain": [
       "Button(description='Draw', style=ButtonStyle())"
      ]
     },
     "metadata": {},
     "output_type": "display_data"
    },
    {
     "data": {
      "application/vnd.jupyter.widget-view+json": {
       "model_id": "8fcc588207fc49d3997fa6c9ee04bd92",
       "version_major": 2,
       "version_minor": 0
      },
      "text/plain": [
       "Text(value='МАТЬ', description='String:', placeholder='Query')"
      ]
     },
     "metadata": {},
     "output_type": "display_data"
    },
    {
     "name": "stdout",
     "output_type": "stream",
     "text": [
      "graphdraw МАТЬ\n",
      "['ИГУМЕН МОНАСТЫРЯ', ' ИГУМЕНЬЯ МОНАСТЫРЯ', ' МАТЬ-ИГУМЕНЬЯ', ' ОТЕЦ-ИГУМЕН', ' ИГУМЕНЬЯ', ' ИГУМЕН']\n",
      "['МОЛОЧНАЯ МАТЬ', ' КОРМИЛИЦА']\n",
      "['СПОСОБНОСТЬ ПОНИМАТЬ ЗНАЧЕНИЕ СВОИХ ДЕЙСТВИЙ', ' ВМЕНЯЕМОСТЬ']\n",
      "['СПОСОБНОСТЬ ПОНИМАТЬ ЗНАЧЕНИЕ СВОИХ ДЕЙСТВИЙ', ' ВМЕНЯЕМОСТЬ']\n",
      "['СУРМАМА', ' СУРРОГАТНАЯ МАМА', ' СУРРОГАТНАЯ МАТЬ', ' СУРРОГАТНОЕ МАТЕРИНСТВО']\n",
      "['СВЕКРОВЬ', ' МАТЬ МУЖА']\n",
      "['МАТЬ ЖЕНЫ', ' ТЕЩА']\n"
     ]
    },
    {
     "ename": "ImportError",
     "evalue": "('requires pygraphviz ', 'http://pygraphviz.github.io/')",
     "output_type": "error",
     "traceback": [
      "\u001b[0;31m---------------------------------------------------------------------------\u001b[0m",
      "\u001b[0;31mModuleNotFoundError\u001b[0m                       Traceback (most recent call last)",
      "\u001b[0;32m~/opt/anaconda3/lib/python3.7/site-packages/networkx/drawing/nx_agraph.py\u001b[0m in \u001b[0;36mpygraphviz_layout\u001b[0;34m(G, prog, root, args)\u001b[0m\n\u001b[1;32m    282\u001b[0m     \u001b[0;32mtry\u001b[0m\u001b[0;34m:\u001b[0m\u001b[0;34m\u001b[0m\u001b[0;34m\u001b[0m\u001b[0m\n\u001b[0;32m--> 283\u001b[0;31m         \u001b[0;32mimport\u001b[0m \u001b[0mpygraphviz\u001b[0m\u001b[0;34m\u001b[0m\u001b[0;34m\u001b[0m\u001b[0m\n\u001b[0m\u001b[1;32m    284\u001b[0m     \u001b[0;32mexcept\u001b[0m \u001b[0mImportError\u001b[0m\u001b[0;34m:\u001b[0m\u001b[0;34m\u001b[0m\u001b[0;34m\u001b[0m\u001b[0m\n",
      "\u001b[0;31mModuleNotFoundError\u001b[0m: No module named 'pygraphviz'",
      "\nDuring handling of the above exception, another exception occurred:\n",
      "\u001b[0;31mImportError\u001b[0m                               Traceback (most recent call last)",
      "\u001b[0;32m<ipython-input-4-e5b79d45fa5b>\u001b[0m in \u001b[0;36mgraphdraw\u001b[0;34m(b)\u001b[0m\n\u001b[1;32m     33\u001b[0m \u001b[0;34m\u001b[0m\u001b[0m\n\u001b[1;32m     34\u001b[0m     \u001b[0mplt\u001b[0m\u001b[0;34m.\u001b[0m\u001b[0mfigure\u001b[0m\u001b[0;34m(\u001b[0m\u001b[0mfigsize\u001b[0m\u001b[0;34m=\u001b[0m\u001b[0;34m(\u001b[0m\u001b[0;36m15\u001b[0m\u001b[0;34m,\u001b[0m\u001b[0;36m15\u001b[0m\u001b[0;34m)\u001b[0m\u001b[0;34m)\u001b[0m\u001b[0;34m\u001b[0m\u001b[0;34m\u001b[0m\u001b[0m\n\u001b[0;32m---> 35\u001b[0;31m     \u001b[0mpos\u001b[0m \u001b[0;34m=\u001b[0m \u001b[0mnx\u001b[0m\u001b[0;34m.\u001b[0m\u001b[0mnx_agraph\u001b[0m\u001b[0;34m.\u001b[0m\u001b[0mgraphviz_layout\u001b[0m\u001b[0;34m(\u001b[0m\u001b[0mg\u001b[0m\u001b[0;34m)\u001b[0m\u001b[0;34m\u001b[0m\u001b[0;34m\u001b[0m\u001b[0m\n\u001b[0m\u001b[1;32m     36\u001b[0m     \u001b[0mnx\u001b[0m\u001b[0;34m.\u001b[0m\u001b[0mdraw\u001b[0m\u001b[0;34m(\u001b[0m\u001b[0mg\u001b[0m\u001b[0;34m,\u001b[0m\u001b[0mwith_labels\u001b[0m\u001b[0;34m=\u001b[0m\u001b[0;32mTrue\u001b[0m\u001b[0;34m,\u001b[0m\u001b[0mpos\u001b[0m\u001b[0;34m=\u001b[0m\u001b[0mpos\u001b[0m\u001b[0;34m)\u001b[0m\u001b[0;34m\u001b[0m\u001b[0;34m\u001b[0m\u001b[0m\n\u001b[1;32m     37\u001b[0m \u001b[0;31m#     edge_labels=nx.draw_networkx_edge_labels(g,pos=pos)\u001b[0m\u001b[0;34m\u001b[0m\u001b[0;34m\u001b[0m\u001b[0;34m\u001b[0m\u001b[0m\n",
      "\u001b[0;32m~/opt/anaconda3/lib/python3.7/site-packages/networkx/drawing/nx_agraph.py\u001b[0m in \u001b[0;36mgraphviz_layout\u001b[0;34m(G, prog, root, args)\u001b[0m\n\u001b[1;32m    241\u001b[0m     \u001b[0mThis\u001b[0m \u001b[0;32mis\u001b[0m \u001b[0ma\u001b[0m \u001b[0mwrapper\u001b[0m \u001b[0;32mfor\u001b[0m \u001b[0mpygraphviz_layout\u001b[0m\u001b[0;34m.\u001b[0m\u001b[0;34m\u001b[0m\u001b[0;34m\u001b[0m\u001b[0m\n\u001b[1;32m    242\u001b[0m     \"\"\"\n\u001b[0;32m--> 243\u001b[0;31m     \u001b[0;32mreturn\u001b[0m \u001b[0mpygraphviz_layout\u001b[0m\u001b[0;34m(\u001b[0m\u001b[0mG\u001b[0m\u001b[0;34m,\u001b[0m \u001b[0mprog\u001b[0m\u001b[0;34m=\u001b[0m\u001b[0mprog\u001b[0m\u001b[0;34m,\u001b[0m \u001b[0mroot\u001b[0m\u001b[0;34m=\u001b[0m\u001b[0mroot\u001b[0m\u001b[0;34m,\u001b[0m \u001b[0margs\u001b[0m\u001b[0;34m=\u001b[0m\u001b[0margs\u001b[0m\u001b[0;34m)\u001b[0m\u001b[0;34m\u001b[0m\u001b[0;34m\u001b[0m\u001b[0m\n\u001b[0m\u001b[1;32m    244\u001b[0m \u001b[0;34m\u001b[0m\u001b[0m\n\u001b[1;32m    245\u001b[0m \u001b[0;34m\u001b[0m\u001b[0m\n",
      "\u001b[0;32m~/opt/anaconda3/lib/python3.7/site-packages/networkx/drawing/nx_agraph.py\u001b[0m in \u001b[0;36mpygraphviz_layout\u001b[0;34m(G, prog, root, args)\u001b[0m\n\u001b[1;32m    284\u001b[0m     \u001b[0;32mexcept\u001b[0m \u001b[0mImportError\u001b[0m\u001b[0;34m:\u001b[0m\u001b[0;34m\u001b[0m\u001b[0;34m\u001b[0m\u001b[0m\n\u001b[1;32m    285\u001b[0m         raise ImportError('requires pygraphviz ',\n\u001b[0;32m--> 286\u001b[0;31m                           'http://pygraphviz.github.io/')\n\u001b[0m\u001b[1;32m    287\u001b[0m     \u001b[0;32mif\u001b[0m \u001b[0mroot\u001b[0m \u001b[0;32mis\u001b[0m \u001b[0;32mnot\u001b[0m \u001b[0;32mNone\u001b[0m\u001b[0;34m:\u001b[0m\u001b[0;34m\u001b[0m\u001b[0;34m\u001b[0m\u001b[0m\n\u001b[1;32m    288\u001b[0m         \u001b[0margs\u001b[0m \u001b[0;34m+=\u001b[0m \u001b[0;34m\"-Groot=%s\"\u001b[0m \u001b[0;34m%\u001b[0m \u001b[0mroot\u001b[0m\u001b[0;34m\u001b[0m\u001b[0;34m\u001b[0m\u001b[0m\n",
      "\u001b[0;31mImportError\u001b[0m: ('requires pygraphviz ', 'http://pygraphviz.github.io/')"
     ]
    },
    {
     "data": {
      "text/plain": [
       "<Figure size 1080x1080 with 0 Axes>"
      ]
     },
     "metadata": {},
     "output_type": "display_data"
    }
   ],
   "source": [
    "button = widgets.Button(description=\"Draw\")\n",
    "query = widgets.Text(\n",
    "    value='МАТЬ',\n",
    "    placeholder='Query',\n",
    "    description='String:',\n",
    "    disabled=False\n",
    ")\n",
    "display(button,query)\n",
    "\n",
    "\n",
    "\n",
    "\n",
    "def creategraph(df):\n",
    "    res = []\n",
    "    for row in df.values:\n",
    "        cohyps = row[1].split(\",\")\n",
    "        for idx,cohyp in enumerate(cohyps):\n",
    "            for parent in json.loads(prestr(row[2])):\n",
    "                res.append((row[0]+'-'+str(idx),parent))\n",
    "    return res\n",
    "\n",
    "def graphdraw(b):\n",
    "    print(\"graphdraw\",query.value)\n",
    "    subset = df[df['TEXT'].str.contains(query.value.upper())]\n",
    "    g = nx.DiGraph()\n",
    "    for el in subset.values:\n",
    "        cohyps = el[1].split(\",\")\n",
    "        print(cohyps)\n",
    "        syns = idx2syns[el[0]]\n",
    "        for child in cohyps:\n",
    "            for parent in json.loads(prestr(el[2])):\n",
    "                ed = g.add_edge(child,idx2syns[parent],label=\"is a\")\n",
    "            \n",
    "    plt.figure(figsize=(15,15))\n",
    "    pos = nx.nx_agraph.graphviz_layout(g)\n",
    "    nx.draw(g,with_labels=True,pos=pos)\n",
    "#     edge_labels=nx.draw_networkx_edge_labels(g,pos=pos)\n",
    "    plt.show()\n",
    "button.on_click(graphdraw)"
   ]
  },
  {
   "cell_type": "code",
   "execution_count": 5,
   "metadata": {},
   "outputs": [
    {
     "name": "stdout",
     "output_type": "stream",
     "text": [
      "Collecting pygraphviz\n",
      "  Using cached https://files.pythonhosted.org/packages/7e/b1/d6d849ddaf6f11036f9980d433f383d4c13d1ebcfc3cd09bc845bda7e433/pygraphviz-1.5.zip\n",
      "Building wheels for collected packages: pygraphviz\n",
      "  Building wheel for pygraphviz (setup.py) ... \u001b[?25lerror\n",
      "\u001b[31m  ERROR: Command errored out with exit status 1:\n",
      "   command: /Users/ilshatkhairakhun/opt/anaconda3/bin/python -u -c 'import sys, setuptools, tokenize; sys.argv[0] = '\"'\"'/private/var/folders/1s/hwfctqyx43d53gkycv6l5ng40000gn/T/pip-install-jo06j39c/pygraphviz/setup.py'\"'\"'; __file__='\"'\"'/private/var/folders/1s/hwfctqyx43d53gkycv6l5ng40000gn/T/pip-install-jo06j39c/pygraphviz/setup.py'\"'\"';f=getattr(tokenize, '\"'\"'open'\"'\"', open)(__file__);code=f.read().replace('\"'\"'\\r\\n'\"'\"', '\"'\"'\\n'\"'\"');f.close();exec(compile(code, __file__, '\"'\"'exec'\"'\"'))' bdist_wheel -d /private/var/folders/1s/hwfctqyx43d53gkycv6l5ng40000gn/T/pip-wheel-10s2jo5c --python-tag cp37\n",
      "       cwd: /private/var/folders/1s/hwfctqyx43d53gkycv6l5ng40000gn/T/pip-install-jo06j39c/pygraphviz/\n",
      "  Complete output (55 lines):\n",
      "  running bdist_wheel\n",
      "  running build\n",
      "  running build_py\n",
      "  creating build\n",
      "  creating build/lib.macosx-10.9-x86_64-3.7\n",
      "  creating build/lib.macosx-10.9-x86_64-3.7/pygraphviz\n",
      "  copying pygraphviz/release.py -> build/lib.macosx-10.9-x86_64-3.7/pygraphviz\n",
      "  copying pygraphviz/version.py -> build/lib.macosx-10.9-x86_64-3.7/pygraphviz\n",
      "  copying pygraphviz/graphviz.py -> build/lib.macosx-10.9-x86_64-3.7/pygraphviz\n",
      "  copying pygraphviz/__init__.py -> build/lib.macosx-10.9-x86_64-3.7/pygraphviz\n",
      "  copying pygraphviz/agraph.py -> build/lib.macosx-10.9-x86_64-3.7/pygraphviz\n",
      "  creating build/lib.macosx-10.9-x86_64-3.7/pygraphviz/tests\n",
      "  copying pygraphviz/tests/test_setup.py -> build/lib.macosx-10.9-x86_64-3.7/pygraphviz/tests\n",
      "  copying pygraphviz/tests/test_unicode.py -> build/lib.macosx-10.9-x86_64-3.7/pygraphviz/tests\n",
      "  copying pygraphviz/tests/test_readwrite.py -> build/lib.macosx-10.9-x86_64-3.7/pygraphviz/tests\n",
      "  copying pygraphviz/tests/test_string.py -> build/lib.macosx-10.9-x86_64-3.7/pygraphviz/tests\n",
      "  copying pygraphviz/tests/__init__.py -> build/lib.macosx-10.9-x86_64-3.7/pygraphviz/tests\n",
      "  copying pygraphviz/tests/test_html.py -> build/lib.macosx-10.9-x86_64-3.7/pygraphviz/tests\n",
      "  copying pygraphviz/tests/test_node_attributes.py -> build/lib.macosx-10.9-x86_64-3.7/pygraphviz/tests\n",
      "  copying pygraphviz/tests/test.py -> build/lib.macosx-10.9-x86_64-3.7/pygraphviz/tests\n",
      "  copying pygraphviz/tests/test_drawing.py -> build/lib.macosx-10.9-x86_64-3.7/pygraphviz/tests\n",
      "  copying pygraphviz/tests/test_subgraph.py -> build/lib.macosx-10.9-x86_64-3.7/pygraphviz/tests\n",
      "  copying pygraphviz/tests/test_edge_attributes.py -> build/lib.macosx-10.9-x86_64-3.7/pygraphviz/tests\n",
      "  copying pygraphviz/tests/test_clear.py -> build/lib.macosx-10.9-x86_64-3.7/pygraphviz/tests\n",
      "  copying pygraphviz/tests/test_layout.py -> build/lib.macosx-10.9-x86_64-3.7/pygraphviz/tests\n",
      "  copying pygraphviz/tests/test_attribute_defaults.py -> build/lib.macosx-10.9-x86_64-3.7/pygraphviz/tests\n",
      "  copying pygraphviz/tests/test_graph.py -> build/lib.macosx-10.9-x86_64-3.7/pygraphviz/tests\n",
      "  copying pygraphviz/tests/test_attributes.py -> build/lib.macosx-10.9-x86_64-3.7/pygraphviz/tests\n",
      "  running egg_info\n",
      "  writing pygraphviz.egg-info/PKG-INFO\n",
      "  writing dependency_links to pygraphviz.egg-info/dependency_links.txt\n",
      "  writing top-level names to pygraphviz.egg-info/top_level.txt\n",
      "  reading manifest file 'pygraphviz.egg-info/SOURCES.txt'\n",
      "  reading manifest template 'MANIFEST.in'\n",
      "  warning: no files found matching '*.png' under directory 'doc'\n",
      "  warning: no files found matching '*.html' under directory 'doc'\n",
      "  warning: no files found matching '*.txt' under directory 'doc'\n",
      "  warning: no files found matching '*.css' under directory 'doc'\n",
      "  warning: no previously-included files matching '*~' found anywhere in distribution\n",
      "  warning: no previously-included files matching '*.pyc' found anywhere in distribution\n",
      "  warning: no previously-included files matching '.svn' found anywhere in distribution\n",
      "  no previously-included directories found matching 'doc/build'\n",
      "  writing manifest file 'pygraphviz.egg-info/SOURCES.txt'\n",
      "  copying pygraphviz/graphviz.i -> build/lib.macosx-10.9-x86_64-3.7/pygraphviz\n",
      "  copying pygraphviz/graphviz_wrap.c -> build/lib.macosx-10.9-x86_64-3.7/pygraphviz\n",
      "  running build_ext\n",
      "  building 'pygraphviz._graphviz' extension\n",
      "  creating build/temp.macosx-10.9-x86_64-3.7\n",
      "  creating build/temp.macosx-10.9-x86_64-3.7/pygraphviz\n",
      "  gcc -Wno-unused-result -Wsign-compare -Wunreachable-code -DNDEBUG -g -fwrapv -O3 -Wall -Wstrict-prototypes -I/Users/ilshatkhairakhun/opt/anaconda3/include -arch x86_64 -I/Users/ilshatkhairakhun/opt/anaconda3/include -arch x86_64 -I/Users/ilshatkhairakhun/opt/anaconda3/include/python3.7m -c pygraphviz/graphviz_wrap.c -o build/temp.macosx-10.9-x86_64-3.7/pygraphviz/graphviz_wrap.o\n",
      "  pygraphviz/graphviz_wrap.c:2987:10: fatal error: 'graphviz/cgraph.h' file not found\n",
      "  #include \"graphviz/cgraph.h\"\n",
      "           ^~~~~~~~~~~~~~~~~~~\n",
      "  1 error generated.\n",
      "  error: command 'gcc' failed with exit status 1\n",
      "  ----------------------------------------\u001b[0m\n",
      "\u001b[31m  ERROR: Failed building wheel for pygraphviz\u001b[0m\n",
      "\u001b[?25h  Running setup.py clean for pygraphviz\n",
      "Failed to build pygraphviz\n",
      "Installing collected packages: pygraphviz\n",
      "  Running setup.py install for pygraphviz ... \u001b[?25lerror\n",
      "\u001b[31m    ERROR: Command errored out with exit status 1:\n",
      "     command: /Users/ilshatkhairakhun/opt/anaconda3/bin/python -u -c 'import sys, setuptools, tokenize; sys.argv[0] = '\"'\"'/private/var/folders/1s/hwfctqyx43d53gkycv6l5ng40000gn/T/pip-install-jo06j39c/pygraphviz/setup.py'\"'\"'; __file__='\"'\"'/private/var/folders/1s/hwfctqyx43d53gkycv6l5ng40000gn/T/pip-install-jo06j39c/pygraphviz/setup.py'\"'\"';f=getattr(tokenize, '\"'\"'open'\"'\"', open)(__file__);code=f.read().replace('\"'\"'\\r\\n'\"'\"', '\"'\"'\\n'\"'\"');f.close();exec(compile(code, __file__, '\"'\"'exec'\"'\"'))' install --record /private/var/folders/1s/hwfctqyx43d53gkycv6l5ng40000gn/T/pip-record-akt8w9vu/install-record.txt --single-version-externally-managed --compile\n",
      "         cwd: /private/var/folders/1s/hwfctqyx43d53gkycv6l5ng40000gn/T/pip-install-jo06j39c/pygraphviz/\n",
      "    Complete output (32 lines):\n",
      "    running install\n",
      "    Trying dpkg\n",
      "    Failed to find dpkg\n",
      "    Trying pkg-config\n",
      "    Failed to find pkg-config\n",
      "    Trying dotneato-config\n",
      "    Failed to find dotneato-config\n",
      "    Failed to find dotneato-config\n",
      "    \n",
      "    Your Graphviz installation could not be found.\n",
      "    \n",
      "            1) You don't have Graphviz installed:\n",
      "               Install Graphviz (http://graphviz.org)\n",
      "    \n",
      "            2) Your Graphviz package might incomplete.\n",
      "               Install the binary development subpackage (e.g. libgraphviz-dev or similar.)\n",
      "    \n",
      "            3) You are using Windows\n",
      "               There are no PyGraphviz binary packages for Windows but you might be\n",
      "               able to build it from this source.  See\n",
      "               http://networkx.lanl.gov/pygraphviz/reference/faq.html\n",
      "    \n",
      "            If you think your installation is correct you will need to manually\n",
      "            provide path to graphviz include and library. For example:\n",
      "    \n",
      "            pip install pygraphviz --install-option=\"--include-path=/usr/include/graphviz\" --install-option=\"--library-path=/usr/lib/graphviz/\"\n",
      "    \n",
      "            The current setting of library_dirs and include_dirs is:\n",
      "    library_dirs=None\n",
      "    include_dirs=None\n",
      "    \n",
      "    error: Error locating graphviz.\n",
      "    ----------------------------------------\u001b[0m\n",
      "\u001b[31mERROR: Command errored out with exit status 1: /Users/ilshatkhairakhun/opt/anaconda3/bin/python -u -c 'import sys, setuptools, tokenize; sys.argv[0] = '\"'\"'/private/var/folders/1s/hwfctqyx43d53gkycv6l5ng40000gn/T/pip-install-jo06j39c/pygraphviz/setup.py'\"'\"'; __file__='\"'\"'/private/var/folders/1s/hwfctqyx43d53gkycv6l5ng40000gn/T/pip-install-jo06j39c/pygraphviz/setup.py'\"'\"';f=getattr(tokenize, '\"'\"'open'\"'\"', open)(__file__);code=f.read().replace('\"'\"'\\r\\n'\"'\"', '\"'\"'\\n'\"'\"');f.close();exec(compile(code, __file__, '\"'\"'exec'\"'\"'))' install --record /private/var/folders/1s/hwfctqyx43d53gkycv6l5ng40000gn/T/pip-record-akt8w9vu/install-record.txt --single-version-externally-managed --compile Check the logs for full command output.\u001b[0m\n"
     ]
    },
    {
     "name": "stdout",
     "output_type": "stream",
     "text": [
      "\u001b[?25hNote: you may need to restart the kernel to use updated packages.\n"
     ]
    }
   ],
   "source": [
    "pip install pygraphviz"
   ]
  },
  {
   "cell_type": "code",
   "execution_count": 6,
   "metadata": {},
   "outputs": [
    {
     "name": "stdout",
     "output_type": "stream",
     "text": [
      "/Users/ilshatkhairakhun/opt/anaconda3/lib/python3.7/site-packages/pip/_internal/commands/install.py:243: UserWarning: Disabling all use of wheels due to the use of --build-options / --global-options / --install-options.\n",
      "  cmdoptions.check_install_build_global(options)\n",
      "Collecting pygraphviz\n",
      "  Using cached https://files.pythonhosted.org/packages/7e/b1/d6d849ddaf6f11036f9980d433f383d4c13d1ebcfc3cd09bc845bda7e433/pygraphviz-1.5.zip\n",
      "Skipping bdist_wheel for pygraphviz, due to binaries being disabled for it.\n",
      "Installing collected packages: pygraphviz\n",
      "  Running setup.py install for pygraphviz ... \u001b[?25lerror\n",
      "\u001b[31m    ERROR: Command errored out with exit status 1:\n",
      "     command: /Users/ilshatkhairakhun/opt/anaconda3/bin/python -u -c 'import sys, setuptools, tokenize; sys.argv[0] = '\"'\"'/private/var/folders/1s/hwfctqyx43d53gkycv6l5ng40000gn/T/pip-install-8r_azwyl/pygraphviz/setup.py'\"'\"'; __file__='\"'\"'/private/var/folders/1s/hwfctqyx43d53gkycv6l5ng40000gn/T/pip-install-8r_azwyl/pygraphviz/setup.py'\"'\"';f=getattr(tokenize, '\"'\"'open'\"'\"', open)(__file__);code=f.read().replace('\"'\"'\\r\\n'\"'\"', '\"'\"'\\n'\"'\"');f.close();exec(compile(code, __file__, '\"'\"'exec'\"'\"'))' install --record /private/var/folders/1s/hwfctqyx43d53gkycv6l5ng40000gn/T/pip-record-cq84nkeh/install-record.txt --single-version-externally-managed --compile --include-path=/usr/include/graphviz --library-path=/usr/lib/graphviz/\n",
      "         cwd: /private/var/folders/1s/hwfctqyx43d53gkycv6l5ng40000gn/T/pip-install-8r_azwyl/pygraphviz/\n",
      "    Complete output (55 lines):\n",
      "    running install\n",
      "    running build\n",
      "    running build_py\n",
      "    creating build\n",
      "    creating build/lib.macosx-10.9-x86_64-3.7\n",
      "    creating build/lib.macosx-10.9-x86_64-3.7/pygraphviz\n",
      "    copying pygraphviz/release.py -> build/lib.macosx-10.9-x86_64-3.7/pygraphviz\n",
      "    copying pygraphviz/version.py -> build/lib.macosx-10.9-x86_64-3.7/pygraphviz\n",
      "    copying pygraphviz/graphviz.py -> build/lib.macosx-10.9-x86_64-3.7/pygraphviz\n",
      "    copying pygraphviz/__init__.py -> build/lib.macosx-10.9-x86_64-3.7/pygraphviz\n",
      "    copying pygraphviz/agraph.py -> build/lib.macosx-10.9-x86_64-3.7/pygraphviz\n",
      "    creating build/lib.macosx-10.9-x86_64-3.7/pygraphviz/tests\n",
      "    copying pygraphviz/tests/test_setup.py -> build/lib.macosx-10.9-x86_64-3.7/pygraphviz/tests\n",
      "    copying pygraphviz/tests/test_unicode.py -> build/lib.macosx-10.9-x86_64-3.7/pygraphviz/tests\n",
      "    copying pygraphviz/tests/test_readwrite.py -> build/lib.macosx-10.9-x86_64-3.7/pygraphviz/tests\n",
      "    copying pygraphviz/tests/test_string.py -> build/lib.macosx-10.9-x86_64-3.7/pygraphviz/tests\n",
      "    copying pygraphviz/tests/__init__.py -> build/lib.macosx-10.9-x86_64-3.7/pygraphviz/tests\n",
      "    copying pygraphviz/tests/test_html.py -> build/lib.macosx-10.9-x86_64-3.7/pygraphviz/tests\n",
      "    copying pygraphviz/tests/test_node_attributes.py -> build/lib.macosx-10.9-x86_64-3.7/pygraphviz/tests\n",
      "    copying pygraphviz/tests/test.py -> build/lib.macosx-10.9-x86_64-3.7/pygraphviz/tests\n",
      "    copying pygraphviz/tests/test_drawing.py -> build/lib.macosx-10.9-x86_64-3.7/pygraphviz/tests\n",
      "    copying pygraphviz/tests/test_subgraph.py -> build/lib.macosx-10.9-x86_64-3.7/pygraphviz/tests\n",
      "    copying pygraphviz/tests/test_edge_attributes.py -> build/lib.macosx-10.9-x86_64-3.7/pygraphviz/tests\n",
      "    copying pygraphviz/tests/test_clear.py -> build/lib.macosx-10.9-x86_64-3.7/pygraphviz/tests\n",
      "    copying pygraphviz/tests/test_layout.py -> build/lib.macosx-10.9-x86_64-3.7/pygraphviz/tests\n",
      "    copying pygraphviz/tests/test_attribute_defaults.py -> build/lib.macosx-10.9-x86_64-3.7/pygraphviz/tests\n",
      "    copying pygraphviz/tests/test_graph.py -> build/lib.macosx-10.9-x86_64-3.7/pygraphviz/tests\n",
      "    copying pygraphviz/tests/test_attributes.py -> build/lib.macosx-10.9-x86_64-3.7/pygraphviz/tests\n",
      "    running egg_info\n",
      "    writing pygraphviz.egg-info/PKG-INFO\n",
      "    writing dependency_links to pygraphviz.egg-info/dependency_links.txt\n",
      "    writing top-level names to pygraphviz.egg-info/top_level.txt\n",
      "    reading manifest file 'pygraphviz.egg-info/SOURCES.txt'\n",
      "    reading manifest template 'MANIFEST.in'\n",
      "    warning: no files found matching '*.png' under directory 'doc'\n",
      "    warning: no files found matching '*.html' under directory 'doc'\n",
      "    warning: no files found matching '*.txt' under directory 'doc'\n",
      "    warning: no files found matching '*.css' under directory 'doc'\n",
      "    warning: no previously-included files matching '*~' found anywhere in distribution\n",
      "    warning: no previously-included files matching '*.pyc' found anywhere in distribution\n",
      "    warning: no previously-included files matching '.svn' found anywhere in distribution\n",
      "    no previously-included directories found matching 'doc/build'\n",
      "    writing manifest file 'pygraphviz.egg-info/SOURCES.txt'\n",
      "    copying pygraphviz/graphviz.i -> build/lib.macosx-10.9-x86_64-3.7/pygraphviz\n",
      "    copying pygraphviz/graphviz_wrap.c -> build/lib.macosx-10.9-x86_64-3.7/pygraphviz\n",
      "    running build_ext\n",
      "    building 'pygraphviz._graphviz' extension\n",
      "    creating build/temp.macosx-10.9-x86_64-3.7\n",
      "    creating build/temp.macosx-10.9-x86_64-3.7/pygraphviz\n",
      "    gcc -Wno-unused-result -Wsign-compare -Wunreachable-code -DNDEBUG -g -fwrapv -O3 -Wall -Wstrict-prototypes -I/Users/ilshatkhairakhun/opt/anaconda3/include -arch x86_64 -I/Users/ilshatkhairakhun/opt/anaconda3/include -arch x86_64 -I/usr/include/graphviz -I/Users/ilshatkhairakhun/opt/anaconda3/include/python3.7m -c pygraphviz/graphviz_wrap.c -o build/temp.macosx-10.9-x86_64-3.7/pygraphviz/graphviz_wrap.o\n",
      "    pygraphviz/graphviz_wrap.c:2987:10: fatal error: 'graphviz/cgraph.h' file not found\n",
      "    #include \"graphviz/cgraph.h\"\n",
      "             ^~~~~~~~~~~~~~~~~~~\n",
      "    1 error generated.\n",
      "    error: command 'gcc' failed with exit status 1\n",
      "    ----------------------------------------\u001b[0m\n",
      "\u001b[31mERROR: Command errored out with exit status 1: /Users/ilshatkhairakhun/opt/anaconda3/bin/python -u -c 'import sys, setuptools, tokenize; sys.argv[0] = '\"'\"'/private/var/folders/1s/hwfctqyx43d53gkycv6l5ng40000gn/T/pip-install-8r_azwyl/pygraphviz/setup.py'\"'\"'; __file__='\"'\"'/private/var/folders/1s/hwfctqyx43d53gkycv6l5ng40000gn/T/pip-install-8r_azwyl/pygraphviz/setup.py'\"'\"';f=getattr(tokenize, '\"'\"'open'\"'\"', open)(__file__);code=f.read().replace('\"'\"'\\r\\n'\"'\"', '\"'\"'\\n'\"'\"');f.close();exec(compile(code, __file__, '\"'\"'exec'\"'\"'))' install --record /private/var/folders/1s/hwfctqyx43d53gkycv6l5ng40000gn/T/pip-record-cq84nkeh/install-record.txt --single-version-externally-managed --compile --include-path=/usr/include/graphviz --library-path=/usr/lib/graphviz/ Check the logs for full command output.\u001b[0m\n",
      "\u001b[?25hNote: you may need to restart the kernel to use updated packages.\n"
     ]
    }
   ],
   "source": [
    "pip install pygraphviz --install-option=\"--include-path=/ilshat.khairakhn/include/graphviz\" --install-option=\"--library-path=/usr/lib/graphviz/\""
   ]
  },
  {
   "cell_type": "code",
   "execution_count": 8,
   "metadata": {},
   "outputs": [
    {
     "name": "stdout",
     "output_type": "stream",
     "text": [
      "Collecting pygraphviz\n",
      "  Using cached https://files.pythonhosted.org/packages/7e/b1/d6d849ddaf6f11036f9980d433f383d4c13d1ebcfc3cd09bc845bda7e433/pygraphviz-1.5.zip\n",
      "Building wheels for collected packages: pygraphviz\n",
      "  Building wheel for pygraphviz (setup.py) ... \u001b[?25lerror\n",
      "\u001b[31m  ERROR: Command errored out with exit status 1:\n",
      "   command: /Users/ilshatkhairakhun/opt/anaconda3/bin/python -u -c 'import sys, setuptools, tokenize; sys.argv[0] = '\"'\"'/private/var/folders/1s/hwfctqyx43d53gkycv6l5ng40000gn/T/pip-install-mrxaqk8o/pygraphviz/setup.py'\"'\"'; __file__='\"'\"'/private/var/folders/1s/hwfctqyx43d53gkycv6l5ng40000gn/T/pip-install-mrxaqk8o/pygraphviz/setup.py'\"'\"';f=getattr(tokenize, '\"'\"'open'\"'\"', open)(__file__);code=f.read().replace('\"'\"'\\r\\n'\"'\"', '\"'\"'\\n'\"'\"');f.close();exec(compile(code, __file__, '\"'\"'exec'\"'\"'))' bdist_wheel -d /private/var/folders/1s/hwfctqyx43d53gkycv6l5ng40000gn/T/pip-wheel-uxadudky --python-tag cp37\n",
      "       cwd: /private/var/folders/1s/hwfctqyx43d53gkycv6l5ng40000gn/T/pip-install-mrxaqk8o/pygraphviz/\n",
      "  Complete output (55 lines):\n",
      "  running bdist_wheel\n",
      "  running build\n",
      "  running build_py\n",
      "  creating build\n",
      "  creating build/lib.macosx-10.9-x86_64-3.7\n",
      "  creating build/lib.macosx-10.9-x86_64-3.7/pygraphviz\n",
      "  copying pygraphviz/release.py -> build/lib.macosx-10.9-x86_64-3.7/pygraphviz\n",
      "  copying pygraphviz/version.py -> build/lib.macosx-10.9-x86_64-3.7/pygraphviz\n",
      "  copying pygraphviz/graphviz.py -> build/lib.macosx-10.9-x86_64-3.7/pygraphviz\n",
      "  copying pygraphviz/__init__.py -> build/lib.macosx-10.9-x86_64-3.7/pygraphviz\n",
      "  copying pygraphviz/agraph.py -> build/lib.macosx-10.9-x86_64-3.7/pygraphviz\n",
      "  creating build/lib.macosx-10.9-x86_64-3.7/pygraphviz/tests\n",
      "  copying pygraphviz/tests/test_setup.py -> build/lib.macosx-10.9-x86_64-3.7/pygraphviz/tests\n",
      "  copying pygraphviz/tests/test_unicode.py -> build/lib.macosx-10.9-x86_64-3.7/pygraphviz/tests\n",
      "  copying pygraphviz/tests/test_readwrite.py -> build/lib.macosx-10.9-x86_64-3.7/pygraphviz/tests\n",
      "  copying pygraphviz/tests/test_string.py -> build/lib.macosx-10.9-x86_64-3.7/pygraphviz/tests\n",
      "  copying pygraphviz/tests/__init__.py -> build/lib.macosx-10.9-x86_64-3.7/pygraphviz/tests\n",
      "  copying pygraphviz/tests/test_html.py -> build/lib.macosx-10.9-x86_64-3.7/pygraphviz/tests\n",
      "  copying pygraphviz/tests/test_node_attributes.py -> build/lib.macosx-10.9-x86_64-3.7/pygraphviz/tests\n",
      "  copying pygraphviz/tests/test.py -> build/lib.macosx-10.9-x86_64-3.7/pygraphviz/tests\n",
      "  copying pygraphviz/tests/test_drawing.py -> build/lib.macosx-10.9-x86_64-3.7/pygraphviz/tests\n",
      "  copying pygraphviz/tests/test_subgraph.py -> build/lib.macosx-10.9-x86_64-3.7/pygraphviz/tests\n",
      "  copying pygraphviz/tests/test_edge_attributes.py -> build/lib.macosx-10.9-x86_64-3.7/pygraphviz/tests\n",
      "  copying pygraphviz/tests/test_clear.py -> build/lib.macosx-10.9-x86_64-3.7/pygraphviz/tests\n",
      "  copying pygraphviz/tests/test_layout.py -> build/lib.macosx-10.9-x86_64-3.7/pygraphviz/tests\n",
      "  copying pygraphviz/tests/test_attribute_defaults.py -> build/lib.macosx-10.9-x86_64-3.7/pygraphviz/tests\n",
      "  copying pygraphviz/tests/test_graph.py -> build/lib.macosx-10.9-x86_64-3.7/pygraphviz/tests\n",
      "  copying pygraphviz/tests/test_attributes.py -> build/lib.macosx-10.9-x86_64-3.7/pygraphviz/tests\n",
      "  running egg_info\n",
      "  writing pygraphviz.egg-info/PKG-INFO\n",
      "  writing dependency_links to pygraphviz.egg-info/dependency_links.txt\n",
      "  writing top-level names to pygraphviz.egg-info/top_level.txt\n",
      "  reading manifest file 'pygraphviz.egg-info/SOURCES.txt'\n",
      "  reading manifest template 'MANIFEST.in'\n",
      "  warning: no files found matching '*.png' under directory 'doc'\n",
      "  warning: no files found matching '*.html' under directory 'doc'\n",
      "  warning: no files found matching '*.txt' under directory 'doc'\n",
      "  warning: no files found matching '*.css' under directory 'doc'\n",
      "  warning: no previously-included files matching '*~' found anywhere in distribution\n",
      "  warning: no previously-included files matching '*.pyc' found anywhere in distribution\n",
      "  warning: no previously-included files matching '.svn' found anywhere in distribution\n",
      "  no previously-included directories found matching 'doc/build'\n",
      "  writing manifest file 'pygraphviz.egg-info/SOURCES.txt'\n",
      "  copying pygraphviz/graphviz.i -> build/lib.macosx-10.9-x86_64-3.7/pygraphviz\n",
      "  copying pygraphviz/graphviz_wrap.c -> build/lib.macosx-10.9-x86_64-3.7/pygraphviz\n",
      "  running build_ext\n",
      "  building 'pygraphviz._graphviz' extension\n",
      "  creating build/temp.macosx-10.9-x86_64-3.7\n",
      "  creating build/temp.macosx-10.9-x86_64-3.7/pygraphviz\n",
      "  gcc -Wno-unused-result -Wsign-compare -Wunreachable-code -DNDEBUG -g -fwrapv -O3 -Wall -Wstrict-prototypes -I/Users/ilshatkhairakhun/opt/anaconda3/include -arch x86_64 -I/Users/ilshatkhairakhun/opt/anaconda3/include -arch x86_64 -I/Users/ilshatkhairakhun/opt/anaconda3/include/python3.7m -c pygraphviz/graphviz_wrap.c -o build/temp.macosx-10.9-x86_64-3.7/pygraphviz/graphviz_wrap.o\n",
      "  pygraphviz/graphviz_wrap.c:2987:10: fatal error: 'graphviz/cgraph.h' file not found\n",
      "  #include \"graphviz/cgraph.h\"\n",
      "           ^~~~~~~~~~~~~~~~~~~\n",
      "  1 error generated.\n",
      "  error: command 'gcc' failed with exit status 1\n",
      "  ----------------------------------------\u001b[0m\n",
      "\u001b[31m  ERROR: Failed building wheel for pygraphviz\u001b[0m\n",
      "\u001b[?25h  Running setup.py clean for pygraphviz\n",
      "Failed to build pygraphviz\n",
      "Installing collected packages: pygraphviz\n",
      "  Running setup.py install for pygraphviz ... \u001b[?25lerror\n",
      "\u001b[31m    ERROR: Command errored out with exit status 1:\n",
      "     command: /Users/ilshatkhairakhun/opt/anaconda3/bin/python -u -c 'import sys, setuptools, tokenize; sys.argv[0] = '\"'\"'/private/var/folders/1s/hwfctqyx43d53gkycv6l5ng40000gn/T/pip-install-mrxaqk8o/pygraphviz/setup.py'\"'\"'; __file__='\"'\"'/private/var/folders/1s/hwfctqyx43d53gkycv6l5ng40000gn/T/pip-install-mrxaqk8o/pygraphviz/setup.py'\"'\"';f=getattr(tokenize, '\"'\"'open'\"'\"', open)(__file__);code=f.read().replace('\"'\"'\\r\\n'\"'\"', '\"'\"'\\n'\"'\"');f.close();exec(compile(code, __file__, '\"'\"'exec'\"'\"'))' install --record /private/var/folders/1s/hwfctqyx43d53gkycv6l5ng40000gn/T/pip-record-92b0hegq/install-record.txt --single-version-externally-managed --compile\n",
      "         cwd: /private/var/folders/1s/hwfctqyx43d53gkycv6l5ng40000gn/T/pip-install-mrxaqk8o/pygraphviz/\n",
      "    Complete output (32 lines):\n",
      "    running install\n",
      "    Trying dpkg\n",
      "    Failed to find dpkg\n",
      "    Trying pkg-config\n",
      "    Failed to find pkg-config\n",
      "    Trying dotneato-config\n",
      "    Failed to find dotneato-config\n",
      "    Failed to find dotneato-config\n",
      "    \n",
      "    Your Graphviz installation could not be found.\n",
      "    \n",
      "            1) You don't have Graphviz installed:\n",
      "               Install Graphviz (http://graphviz.org)\n",
      "    \n",
      "            2) Your Graphviz package might incomplete.\n",
      "               Install the binary development subpackage (e.g. libgraphviz-dev or similar.)\n",
      "    \n",
      "            3) You are using Windows\n",
      "               There are no PyGraphviz binary packages for Windows but you might be\n",
      "               able to build it from this source.  See\n",
      "               http://networkx.lanl.gov/pygraphviz/reference/faq.html\n",
      "    \n",
      "            If you think your installation is correct you will need to manually\n",
      "            provide path to graphviz include and library. For example:\n",
      "    \n",
      "            pip install pygraphviz --install-option=\"--include-path=/usr/include/graphviz\" --install-option=\"--library-path=/usr/lib/graphviz/\"\n",
      "    \n",
      "            The current setting of library_dirs and include_dirs is:\n",
      "    library_dirs=None\n",
      "    include_dirs=None\n",
      "    \n",
      "    error: Error locating graphviz.\n",
      "    ----------------------------------------\u001b[0m\n",
      "\u001b[31mERROR: Command errored out with exit status 1: /Users/ilshatkhairakhun/opt/anaconda3/bin/python -u -c 'import sys, setuptools, tokenize; sys.argv[0] = '\"'\"'/private/var/folders/1s/hwfctqyx43d53gkycv6l5ng40000gn/T/pip-install-mrxaqk8o/pygraphviz/setup.py'\"'\"'; __file__='\"'\"'/private/var/folders/1s/hwfctqyx43d53gkycv6l5ng40000gn/T/pip-install-mrxaqk8o/pygraphviz/setup.py'\"'\"';f=getattr(tokenize, '\"'\"'open'\"'\"', open)(__file__);code=f.read().replace('\"'\"'\\r\\n'\"'\"', '\"'\"'\\n'\"'\"');f.close();exec(compile(code, __file__, '\"'\"'exec'\"'\"'))' install --record /private/var/folders/1s/hwfctqyx43d53gkycv6l5ng40000gn/T/pip-record-92b0hegq/install-record.txt --single-version-externally-managed --compile Check the logs for full command output.\u001b[0m\n"
     ]
    },
    {
     "name": "stdout",
     "output_type": "stream",
     "text": [
      "\u001b[?25hNote: you may need to restart the kernel to use updated packages.\n"
     ]
    }
   ],
   "source": [
    "pip install pygraphviz"
   ]
  },
  {
   "cell_type": "code",
   "execution_count": 9,
   "metadata": {},
   "outputs": [
    {
     "name": "stdout",
     "output_type": "stream",
     "text": [
      "/Users/ilshatkhairakhun/opt/anaconda3/lib/python3.7/site-packages/pip/_internal/commands/install.py:243: UserWarning: Disabling all use of wheels due to the use of --build-options / --global-options / --install-options.\n",
      "  cmdoptions.check_install_build_global(options)\n",
      "Collecting pygraphviz\n",
      "  Using cached https://files.pythonhosted.org/packages/7e/b1/d6d849ddaf6f11036f9980d433f383d4c13d1ebcfc3cd09bc845bda7e433/pygraphviz-1.5.zip\n",
      "Skipping bdist_wheel for pygraphviz, due to binaries being disabled for it.\n",
      "Installing collected packages: pygraphviz\n",
      "  Running setup.py install for pygraphviz ... \u001b[?25lerror\n",
      "\u001b[31m    ERROR: Command errored out with exit status 1:\n",
      "     command: /Users/ilshatkhairakhun/opt/anaconda3/bin/python -u -c 'import sys, setuptools, tokenize; sys.argv[0] = '\"'\"'/private/var/folders/1s/hwfctqyx43d53gkycv6l5ng40000gn/T/pip-install-cxzk8cyc/pygraphviz/setup.py'\"'\"'; __file__='\"'\"'/private/var/folders/1s/hwfctqyx43d53gkycv6l5ng40000gn/T/pip-install-cxzk8cyc/pygraphviz/setup.py'\"'\"';f=getattr(tokenize, '\"'\"'open'\"'\"', open)(__file__);code=f.read().replace('\"'\"'\\r\\n'\"'\"', '\"'\"'\\n'\"'\"');f.close();exec(compile(code, __file__, '\"'\"'exec'\"'\"'))' install --record /private/var/folders/1s/hwfctqyx43d53gkycv6l5ng40000gn/T/pip-record-mtz0elsv/install-record.txt --single-version-externally-managed --compile --include-path=/usr/local/include/graphviz/ --library-path=/usr/local/lib/graphviz\n",
      "         cwd: /private/var/folders/1s/hwfctqyx43d53gkycv6l5ng40000gn/T/pip-install-cxzk8cyc/pygraphviz/\n",
      "    Complete output (55 lines):\n",
      "    running install\n",
      "    running build\n",
      "    running build_py\n",
      "    creating build\n",
      "    creating build/lib.macosx-10.9-x86_64-3.7\n",
      "    creating build/lib.macosx-10.9-x86_64-3.7/pygraphviz\n",
      "    copying pygraphviz/release.py -> build/lib.macosx-10.9-x86_64-3.7/pygraphviz\n",
      "    copying pygraphviz/version.py -> build/lib.macosx-10.9-x86_64-3.7/pygraphviz\n",
      "    copying pygraphviz/graphviz.py -> build/lib.macosx-10.9-x86_64-3.7/pygraphviz\n",
      "    copying pygraphviz/__init__.py -> build/lib.macosx-10.9-x86_64-3.7/pygraphviz\n",
      "    copying pygraphviz/agraph.py -> build/lib.macosx-10.9-x86_64-3.7/pygraphviz\n",
      "    creating build/lib.macosx-10.9-x86_64-3.7/pygraphviz/tests\n",
      "    copying pygraphviz/tests/test_setup.py -> build/lib.macosx-10.9-x86_64-3.7/pygraphviz/tests\n",
      "    copying pygraphviz/tests/test_unicode.py -> build/lib.macosx-10.9-x86_64-3.7/pygraphviz/tests\n",
      "    copying pygraphviz/tests/test_readwrite.py -> build/lib.macosx-10.9-x86_64-3.7/pygraphviz/tests\n",
      "    copying pygraphviz/tests/test_string.py -> build/lib.macosx-10.9-x86_64-3.7/pygraphviz/tests\n",
      "    copying pygraphviz/tests/__init__.py -> build/lib.macosx-10.9-x86_64-3.7/pygraphviz/tests\n",
      "    copying pygraphviz/tests/test_html.py -> build/lib.macosx-10.9-x86_64-3.7/pygraphviz/tests\n",
      "    copying pygraphviz/tests/test_node_attributes.py -> build/lib.macosx-10.9-x86_64-3.7/pygraphviz/tests\n",
      "    copying pygraphviz/tests/test.py -> build/lib.macosx-10.9-x86_64-3.7/pygraphviz/tests\n",
      "    copying pygraphviz/tests/test_drawing.py -> build/lib.macosx-10.9-x86_64-3.7/pygraphviz/tests\n",
      "    copying pygraphviz/tests/test_subgraph.py -> build/lib.macosx-10.9-x86_64-3.7/pygraphviz/tests\n",
      "    copying pygraphviz/tests/test_edge_attributes.py -> build/lib.macosx-10.9-x86_64-3.7/pygraphviz/tests\n",
      "    copying pygraphviz/tests/test_clear.py -> build/lib.macosx-10.9-x86_64-3.7/pygraphviz/tests\n",
      "    copying pygraphviz/tests/test_layout.py -> build/lib.macosx-10.9-x86_64-3.7/pygraphviz/tests\n",
      "    copying pygraphviz/tests/test_attribute_defaults.py -> build/lib.macosx-10.9-x86_64-3.7/pygraphviz/tests\n",
      "    copying pygraphviz/tests/test_graph.py -> build/lib.macosx-10.9-x86_64-3.7/pygraphviz/tests\n",
      "    copying pygraphviz/tests/test_attributes.py -> build/lib.macosx-10.9-x86_64-3.7/pygraphviz/tests\n",
      "    running egg_info\n",
      "    writing pygraphviz.egg-info/PKG-INFO\n",
      "    writing dependency_links to pygraphviz.egg-info/dependency_links.txt\n",
      "    writing top-level names to pygraphviz.egg-info/top_level.txt\n",
      "    reading manifest file 'pygraphviz.egg-info/SOURCES.txt'\n",
      "    reading manifest template 'MANIFEST.in'\n",
      "    warning: no files found matching '*.png' under directory 'doc'\n",
      "    warning: no files found matching '*.html' under directory 'doc'\n",
      "    warning: no files found matching '*.txt' under directory 'doc'\n",
      "    warning: no files found matching '*.css' under directory 'doc'\n",
      "    warning: no previously-included files matching '*~' found anywhere in distribution\n",
      "    warning: no previously-included files matching '*.pyc' found anywhere in distribution\n",
      "    warning: no previously-included files matching '.svn' found anywhere in distribution\n",
      "    no previously-included directories found matching 'doc/build'\n",
      "    writing manifest file 'pygraphviz.egg-info/SOURCES.txt'\n",
      "    copying pygraphviz/graphviz.i -> build/lib.macosx-10.9-x86_64-3.7/pygraphviz\n",
      "    copying pygraphviz/graphviz_wrap.c -> build/lib.macosx-10.9-x86_64-3.7/pygraphviz\n",
      "    running build_ext\n",
      "    building 'pygraphviz._graphviz' extension\n",
      "    creating build/temp.macosx-10.9-x86_64-3.7\n",
      "    creating build/temp.macosx-10.9-x86_64-3.7/pygraphviz\n",
      "    gcc -Wno-unused-result -Wsign-compare -Wunreachable-code -DNDEBUG -g -fwrapv -O3 -Wall -Wstrict-prototypes -I/Users/ilshatkhairakhun/opt/anaconda3/include -arch x86_64 -I/Users/ilshatkhairakhun/opt/anaconda3/include -arch x86_64 -I/usr/local/include/graphviz/ -I/Users/ilshatkhairakhun/opt/anaconda3/include/python3.7m -c pygraphviz/graphviz_wrap.c -o build/temp.macosx-10.9-x86_64-3.7/pygraphviz/graphviz_wrap.o\n",
      "    pygraphviz/graphviz_wrap.c:2987:10: fatal error: 'graphviz/cgraph.h' file not found\n",
      "    #include \"graphviz/cgraph.h\"\n",
      "             ^~~~~~~~~~~~~~~~~~~\n",
      "    1 error generated.\n",
      "    error: command 'gcc' failed with exit status 1\n",
      "    ----------------------------------------\u001b[0m\n",
      "\u001b[31mERROR: Command errored out with exit status 1: /Users/ilshatkhairakhun/opt/anaconda3/bin/python -u -c 'import sys, setuptools, tokenize; sys.argv[0] = '\"'\"'/private/var/folders/1s/hwfctqyx43d53gkycv6l5ng40000gn/T/pip-install-cxzk8cyc/pygraphviz/setup.py'\"'\"'; __file__='\"'\"'/private/var/folders/1s/hwfctqyx43d53gkycv6l5ng40000gn/T/pip-install-cxzk8cyc/pygraphviz/setup.py'\"'\"';f=getattr(tokenize, '\"'\"'open'\"'\"', open)(__file__);code=f.read().replace('\"'\"'\\r\\n'\"'\"', '\"'\"'\\n'\"'\"');f.close();exec(compile(code, __file__, '\"'\"'exec'\"'\"'))' install --record /private/var/folders/1s/hwfctqyx43d53gkycv6l5ng40000gn/T/pip-record-mtz0elsv/install-record.txt --single-version-externally-managed --compile --include-path=/usr/local/include/graphviz/ --library-path=/usr/local/lib/graphviz Check the logs for full command output.\u001b[0m\n",
      "\u001b[?25hNote: you may need to restart the kernel to use updated packages.\n"
     ]
    }
   ],
   "source": [
    "pip install pygraphviz --install-option=\"--include-path=/usr/local/include/graphviz/\" --install-option=\"--library-path=/usr/local/lib/graphviz\""
   ]
  },
  {
   "cell_type": "code",
   "execution_count": 10,
   "metadata": {},
   "outputs": [
    {
     "name": "stdout",
     "output_type": "stream",
     "text": [
      "Collecting package metadata (current_repodata.json): done\n",
      "Solving environment: done\n",
      "\n",
      "## Package Plan ##\n",
      "\n",
      "  environment location: /Users/ilshatkhairakhun/opt/anaconda3\n",
      "\n",
      "  added / updated specs:\n",
      "    - pygraphviz\n",
      "\n",
      "\n",
      "The following packages will be downloaded:\n",
      "\n",
      "    package                    |            build\n",
      "    ---------------------------|-----------------\n",
      "    cairo-1.14.12              |       hc4e6be7_4         860 KB\n",
      "    conda-4.8.2                |           py37_0         2.8 MB\n",
      "    fontconfig-2.13.0          |       h5d5b041_1         202 KB\n",
      "    fribidi-1.0.5              |       h1de35cc_0          60 KB\n",
      "    graphite2-1.3.13           |       h2098e52_0          80 KB\n",
      "    graphviz-2.40.1            |       hefbbd9a_2         6.3 MB\n",
      "    harfbuzz-1.8.8             |       hb8d4a28_0         414 KB\n",
      "    pango-1.42.4               |       h060686c_0         455 KB\n",
      "    pixman-0.38.0              |       h1de35cc_0         341 KB\n",
      "    pygraphviz-1.3             |   py37h1de35cc_1         108 KB\n",
      "    ------------------------------------------------------------\n",
      "                                           Total:        11.6 MB\n",
      "\n",
      "The following NEW packages will be INSTALLED:\n",
      "\n",
      "  cairo              pkgs/main/osx-64::cairo-1.14.12-hc4e6be7_4\n",
      "  fontconfig         pkgs/main/osx-64::fontconfig-2.13.0-h5d5b041_1\n",
      "  fribidi            pkgs/main/osx-64::fribidi-1.0.5-h1de35cc_0\n",
      "  graphite2          pkgs/main/osx-64::graphite2-1.3.13-h2098e52_0\n",
      "  graphviz           pkgs/main/osx-64::graphviz-2.40.1-hefbbd9a_2\n",
      "  harfbuzz           pkgs/main/osx-64::harfbuzz-1.8.8-hb8d4a28_0\n",
      "  pango              pkgs/main/osx-64::pango-1.42.4-h060686c_0\n",
      "  pixman             pkgs/main/osx-64::pixman-0.38.0-h1de35cc_0\n",
      "  pygraphviz         pkgs/main/osx-64::pygraphviz-1.3-py37h1de35cc_1\n",
      "\n",
      "The following packages will be UPDATED:\n",
      "\n",
      "  conda                                       4.7.12-py37_0 --> 4.8.2-py37_0\n",
      "\n",
      "\n",
      "\n",
      "Downloading and Extracting Packages\n",
      "pixman-0.38.0        | 341 KB    | ##################################### | 100% \n",
      "cairo-1.14.12        | 860 KB    | ##################################### | 100% \n",
      "harfbuzz-1.8.8       | 414 KB    | ##################################### | 100% \n",
      "graphviz-2.40.1      | 6.3 MB    | ##################################### | 100% \n",
      "conda-4.8.2          | 2.8 MB    | ##################################### | 100% \n",
      "pygraphviz-1.3       | 108 KB    | ##################################### | 100% \n",
      "graphite2-1.3.13     | 80 KB     | ##################################### | 100% \n",
      "fontconfig-2.13.0    | 202 KB    | ##################################### | 100% \n",
      "fribidi-1.0.5        | 60 KB     | ##################################### | 100% \n",
      "pango-1.42.4         | 455 KB    | ##################################### | 100% \n",
      "Preparing transaction: done\n",
      "Verifying transaction: done\n",
      "Executing transaction: done\n",
      "\n",
      "Note: you may need to restart the kernel to use updated packages.\n"
     ]
    }
   ],
   "source": [
    "conda install --channel https://conda.anaconda.org/garylschultz pygraphviz"
   ]
  },
  {
   "cell_type": "code",
   "execution_count": 11,
   "metadata": {},
   "outputs": [
    {
     "name": "stdout",
     "output_type": "stream",
     "text": [
      "Name: graphviz\n",
      "Version: 0.13.2\n",
      "Summary: Simple Python interface for Graphviz\n",
      "Home-page: https://github.com/xflr6/graphviz\n",
      "Author: Sebastian Bank\n",
      "Author-email: sebastian.bank@uni-leipzig.de\n",
      "License: MIT\n",
      "Location: /Users/ilshatkhairakhun/opt/anaconda3/lib/python3.7/site-packages\n",
      "Requires: \n",
      "Required-by: \n",
      "Note: you may need to restart the kernel to use updated packages.\n"
     ]
    }
   ],
   "source": [
    "pip show graphviz"
   ]
  },
  {
   "cell_type": "code",
   "execution_count": 12,
   "metadata": {},
   "outputs": [
    {
     "data": {
      "application/vnd.jupyter.widget-view+json": {
       "model_id": "0adf27f92fb54708a04864e3cbbb7beb",
       "version_major": 2,
       "version_minor": 0
      },
      "text/plain": [
       "Button(description='Draw', style=ButtonStyle())"
      ]
     },
     "metadata": {},
     "output_type": "display_data"
    },
    {
     "data": {
      "application/vnd.jupyter.widget-view+json": {
       "model_id": "40ad5f4ef160485e8c874617c23b3913",
       "version_major": 2,
       "version_minor": 0
      },
      "text/plain": [
       "Text(value='МАТЬ', description='String:', placeholder='Query')"
      ]
     },
     "metadata": {},
     "output_type": "display_data"
    },
    {
     "name": "stdout",
     "output_type": "stream",
     "text": [
      "graphdraw МАТЬ\n",
      "['ИГУМЕН МОНАСТЫРЯ', ' ИГУМЕНЬЯ МОНАСТЫРЯ', ' МАТЬ-ИГУМЕНЬЯ', ' ОТЕЦ-ИГУМЕН', ' ИГУМЕНЬЯ', ' ИГУМЕН']\n",
      "['МОЛОЧНАЯ МАТЬ', ' КОРМИЛИЦА']\n",
      "['СПОСОБНОСТЬ ПОНИМАТЬ ЗНАЧЕНИЕ СВОИХ ДЕЙСТВИЙ', ' ВМЕНЯЕМОСТЬ']\n",
      "['СПОСОБНОСТЬ ПОНИМАТЬ ЗНАЧЕНИЕ СВОИХ ДЕЙСТВИЙ', ' ВМЕНЯЕМОСТЬ']\n",
      "['СУРМАМА', ' СУРРОГАТНАЯ МАМА', ' СУРРОГАТНАЯ МАТЬ', ' СУРРОГАТНОЕ МАТЕРИНСТВО']\n",
      "['СВЕКРОВЬ', ' МАТЬ МУЖА']\n",
      "['МАТЬ ЖЕНЫ', ' ТЕЩА']\n"
     ]
    },
    {
     "name": "stderr",
     "output_type": "stream",
     "text": [
      "/Users/ilshatkhairakhun/opt/anaconda3/lib/python3.7/site-packages/networkx/drawing/nx_pylab.py:579: MatplotlibDeprecationWarning: \n",
      "The iterable function was deprecated in Matplotlib 3.1 and will be removed in 3.3. Use np.iterable instead.\n",
      "  if not cb.iterable(width):\n",
      "/Users/ilshatkhairakhun/opt/anaconda3/lib/python3.7/site-packages/networkx/drawing/nx_pylab.py:676: MatplotlibDeprecationWarning: \n",
      "The iterable function was deprecated in Matplotlib 3.1 and will be removed in 3.3. Use np.iterable instead.\n",
      "  if cb.iterable(node_size):  # many node sizes\n"
     ]
    },
    {
     "data": {
      "image/png": "[encoded data removed]",
      "text/plain": [
       "<Figure size 1080x1080 with 1 Axes>"
      ]
     },
     "metadata": {},
     "output_type": "display_data"
    }
   ],
   "source": [
    "button = widgets.Button(description=\"Draw\")\n",
    "query = widgets.Text(\n",
    "    value='МАТЬ',\n",
    "    placeholder='Query',\n",
    "    description='String:',\n",
    "    disabled=False\n",
    ")\n",
    "display(button,query)\n",
    "\n",
    "\n",
    "\n",
    "\n",
    "def creategraph(df):\n",
    "    res = []\n",
    "    for row in df.values:\n",
    "        cohyps = row[1].split(\",\")\n",
    "        for idx,cohyp in enumerate(cohyps):\n",
    "            for parent in json.loads(prestr(row[2])):\n",
    "                res.append((row[0]+'-'+str(idx),parent))\n",
    "    return res\n",
    "\n",
    "def graphdraw(b):\n",
    "    print(\"graphdraw\",query.value)\n",
    "    subset = df[df['TEXT'].str.contains(query.value.upper())]\n",
    "    g = nx.DiGraph()\n",
    "    for el in subset.values:\n",
    "        cohyps = el[1].split(\",\")\n",
    "        print(cohyps)\n",
    "        syns = idx2syns[el[0]]\n",
    "        for child in cohyps:\n",
    "            for parent in json.loads(prestr(el[2])):\n",
    "                ed = g.add_edge(child,idx2syns[parent],label=\"is a\")\n",
    "            \n",
    "    plt.figure(figsize=(15,15))\n",
    "    pos = nx.nx_agraph.graphviz_layout(g)\n",
    "    nx.draw(g,with_labels=True,pos=pos)\n",
    "#     edge_labels=nx.draw_networkx_edge_labels(g,pos=pos)\n",
    "    plt.show()\n",
    "button.on_click(graphdraw)"
   ]
  },
  {
   "cell_type": "code",
   "execution_count": 13,
   "metadata": {},
   "outputs": [
    {
     "name": "stdout",
     "output_type": "stream",
     "text": [
      "Collecting yargy\n",
      "\u001b[?25l  Downloading https://files.pythonhosted.org/packages/37/64/d6abf637228bed6b0249b522f588d19dca9f09ab65db13bef41096f51889/yargy-0.12.0-py2.py3-none-any.whl (41kB)\n",
      "\u001b[K     |████████████████████████████████| 51kB 159kB/s eta 0:00:01\n",
      "\u001b[?25hCollecting pymorphy2==0.8 (from yargy)\n",
      "\u001b[?25l  Downloading https://files.pythonhosted.org/packages/a3/33/fff9675c68b5f6c63ec8c6e6ff57827dda28a1fa5b2c2d727dffff92dd47/pymorphy2-0.8-py2.py3-none-any.whl (46kB)\n",
      "\u001b[K     |████████████████████████████████| 51kB 251kB/s eta 0:00:011\n",
      "\u001b[?25hCollecting backports.functools-lru-cache==1.3 (from yargy)\n",
      "  Downloading https://files.pythonhosted.org/packages/d4/40/0b1db94fdfd71353ae67ec444ff28e0a7ecc25212d1cb94c291b6cd226f9/backports.functools_lru_cache-1.3-py2.py3-none-any.whl\n",
      "Collecting dawg-python>=0.7 (from pymorphy2==0.8->yargy)\n",
      "  Downloading https://files.pythonhosted.org/packages/6a/84/ff1ce2071d4c650ec85745766c0047ccc3b5036f1d03559fd46bb38b5eeb/DAWG_Python-0.7.2-py2.py3-none-any.whl\n",
      "Collecting pymorphy2-dicts<3.0,>=2.4 (from pymorphy2==0.8->yargy)\n",
      "\u001b[?25l  Downloading https://files.pythonhosted.org/packages/02/51/2465fd4f72328ab50877b54777764d928da8cb15b74e2680fc1bd8cb3173/pymorphy2_dicts-2.4.393442.3710985-py2.py3-none-any.whl (7.1MB)\n",
      "\u001b[K     |████████████████████████████████| 7.1MB 1.4MB/s eta 0:00:01\n",
      "\u001b[?25hCollecting docopt>=0.6 (from pymorphy2==0.8->yargy)\n",
      "  Downloading https://files.pythonhosted.org/packages/a2/55/8f8cab2afd404cf578136ef2cc5dfb50baa1761b68c9da1fb1e4eed343c9/docopt-0.6.2.tar.gz\n",
      "Building wheels for collected packages: docopt\n",
      "  Building wheel for docopt (setup.py) ... \u001b[?25ldone\n",
      "\u001b[?25h  Created wheel for docopt: filename=docopt-0.6.2-py2.py3-none-any.whl size=13704 sha256=a34eec47335f4ef2f2ef90b1ffd980e633df586b56977bfd5e0d02086546190b\n",
      "  Stored in directory: /Users/ilshatkhairakhun/Library/Caches/pip/wheels/9b/04/dd/7daf4150b6d9b12949298737de9431a324d4b797ffd63f526e\n",
      "Successfully built docopt\n",
      "\u001b[31mERROR: conda-verify 3.4.2 has requirement backports.functools-lru-cache>=1.4, but you'll have backports-functools-lru-cache 1.3 which is incompatible.\u001b[0m\n",
      "Installing collected packages: dawg-python, pymorphy2-dicts, docopt, pymorphy2, backports.functools-lru-cache, yargy\n",
      "  Found existing installation: backports.functools-lru-cache 1.5\n",
      "    Uninstalling backports.functools-lru-cache-1.5:\n",
      "      Successfully uninstalled backports.functools-lru-cache-1.5\n",
      "Successfully installed backports.functools-lru-cache-1.3 dawg-python-0.7.2 docopt-0.6.2 pymorphy2-0.8 pymorphy2-dicts-2.4.393442.3710985 yargy-0.12.0\n",
      "Note: you may need to restart the kernel to use updated packages.\n"
     ]
    }
   ],
   "source": [
    "pip install yargy\n"
   ]
  },
  {
   "cell_type": "code",
   "execution_count": 14,
   "metadata": {},
   "outputs": [
    {
     "name": "stdout",
     "output_type": "stream",
     "text": [
      "['Ростов', '-', 'на', '-', 'Дону']\n",
      "['Длительностью', '18', 'ч', '.', '10', 'мин', '.']\n",
      "['Яндекс', '.', 'Такси']\n",
      "['π', '≈', '3', '.', '1415']\n",
      "['1', '500', '000', '$']\n",
      "['http', ':', '/', '/', 'vk', '.', 'com']\n"
     ]
    }
   ],
   "source": [
    "from yargy.tokenizer import MorphTokenizer\n",
    "\n",
    "\n",
    "tokenizer = MorphTokenizer()\n",
    "text = '''Ростов-на-Дону\n",
    "Длительностью 18ч. 10мин.\n",
    "Яндекс.Такси\n",
    "π ≈ 3.1415\n",
    "1 500 000$\n",
    "http://vk.com\n",
    "'''\n",
    "for line in text.splitlines():\n",
    "    print([_.value for _ in tokenizer(line)])"
   ]
  },
  {
   "cell_type": "code",
   "execution_count": 15,
   "metadata": {},
   "outputs": [],
   "source": [
    "from yargy import or_, rule\n",
    "from yargy.predicates import normalized\n",
    "\n",
    "RULE = or_(\n",
    "    rule(normalized('dvd'), '-', normalized('диск')),\n",
    "    rule(normalized('видео'), normalized('файл'))\n",
    ")"
   ]
  },
  {
   "cell_type": "code",
   "execution_count": 16,
   "metadata": {},
   "outputs": [
    {
     "name": "stdout",
     "output_type": "stream",
     "text": [
      "['Видео', 'файл']\n",
      "['dvd', '-', 'диске']\n"
     ]
    }
   ],
   "source": [
    "from yargy import Parser\n",
    "from yargy.pipelines import morph_pipeline\n",
    "\n",
    "\n",
    "RULE = morph_pipeline([\n",
    "    'dvd-диск',\n",
    "    'видео файл',\n",
    "    'видеофильм',\n",
    "    'газета',\n",
    "    'электронный дневник',\n",
    "    'эссе',\n",
    "])\n",
    "\n",
    "parser = Parser(RULE)\n",
    "text = 'Видео файл на dvd-диске'\n",
    "for match in parser.findall(text):\n",
    "    print([_.value for _ in match.tokens])"
   ]
  },
  {
   "cell_type": "code",
   "execution_count": 17,
   "metadata": {},
   "outputs": [
    {
     "name": "stdout",
     "output_type": "stream",
     "text": [
      "['Чеченской', 'республике']\n",
      "['Донецкая', 'народная', 'республика']\n"
     ]
    }
   ],
   "source": [
    "from yargy import Parser, rule, and_\n",
    "from yargy.predicates import gram, is_capitalized, dictionary\n",
    "\n",
    "\n",
    "GEO = rule(\n",
    "    and_(\n",
    "        gram('ADJF'),  # так помечается прилагательное, остальные пометки описаны в\n",
    "                       # http://pymorphy2.readthedocs.io/en/latest/user/grammemes.html\n",
    "        is_capitalized()\n",
    "    ),\n",
    "    gram('ADJF').optional().repeatable(),\n",
    "    dictionary({\n",
    "        'федерация',\n",
    "        'республика'\n",
    "    })\n",
    ")\n",
    "\n",
    "\n",
    "parser = Parser(GEO)\n",
    "text = '''\n",
    "В Чеченской республике на день рождения ...\n",
    "Донецкая народная республика провозгласила ...\n",
    "Башня Федерация — одна из самых высоких ...\n",
    "'''\n",
    "for match in parser.findall(text):\n",
    "    print([_.value for _ in match.tokens])"
   ]
  },
  {
   "cell_type": "code",
   "execution_count": 18,
   "metadata": {},
   "outputs": [
    {
     "name": "stdout",
     "output_type": "stream",
     "text": [
      "True\n",
      "True\n"
     ]
    }
   ],
   "source": [
    "from yargy import and_, not_\n",
    "from yargy.tokenizer import MorphTokenizer\n",
    "from yargy.predicates import is_capitalized, eq\n",
    "\n",
    "\n",
    "tokenizer = MorphTokenizer()\n",
    "token = next(tokenizer('Стали'))\n",
    "\n",
    "predicate = is_capitalized()\n",
    "print(predicate(token))\n",
    "\n",
    "predicate = and_(\n",
    "    is_capitalized(),\n",
    "    not_(eq('марки'))\n",
    ")\n",
    "print(predicate(token))"
   ]
  },
  {
   "cell_type": "code",
   "execution_count": 19,
   "metadata": {},
   "outputs": [
    {
     "data": {
      "text/plain": [
       "SIZE -> KEY VALUE\n",
       "KEY -> 'р' '.' | 'размер'\n",
       "VALUE -> 'S' | 'M' | 'L' | 'XS'\n"
      ]
     },
     "execution_count": 19,
     "metadata": {},
     "output_type": "execute_result"
    }
   ],
   "source": [
    "from yargy import rule, or_\n",
    "\n",
    "\n",
    "KEY = or_(\n",
    "    rule('р', '.'),\n",
    "    rule('размер')\n",
    ").named('KEY')\n",
    "VALUE = or_(\n",
    "    rule('S'),\n",
    "    rule('M'),\n",
    "    rule('L'),\n",
    "    rule('XS'),\n",
    ").named('VALUE')\n",
    "SIZE = rule(\n",
    "    KEY,\n",
    "    VALUE\n",
    ").named('SIZE')\n",
    "SIZE.normalized.as_bnf"
   ]
  },
  {
   "cell_type": "code",
   "execution_count": 20,
   "metadata": {},
   "outputs": [
    {
     "name": "stdout",
     "output_type": "stream",
     "text": [
      "['размер', 'M']\n",
      "['размер', 'XS']\n"
     ]
    }
   ],
   "source": [
    "parser = Parser(\n",
    "    SIZE\n",
    ")\n",
    "text = 'размер M; размер A; размер XS;'\n",
    "for match in parser.findall(text):\n",
    "    print([_.value for _ in match.tokens])"
   ]
  },
  {
   "cell_type": "code",
   "execution_count": 21,
   "metadata": {},
   "outputs": [
    {
     "ename": "ModuleNotFoundError",
     "evalue": "No module named 'gensim'",
     "output_type": "error",
     "traceback": [
      "\u001b[0;31m---------------------------------------------------------------------------\u001b[0m",
      "\u001b[0;31mModuleNotFoundError\u001b[0m                       Traceback (most recent call last)",
      "\u001b[0;32m<ipython-input-21-a04eb4f832c6>\u001b[0m in \u001b[0;36m<module>\u001b[0;34m\u001b[0m\n\u001b[1;32m      5\u001b[0m \u001b[0;32mimport\u001b[0m \u001b[0mpandas\u001b[0m \u001b[0;32mas\u001b[0m \u001b[0mpd\u001b[0m\u001b[0;34m\u001b[0m\u001b[0;34m\u001b[0m\u001b[0m\n\u001b[1;32m      6\u001b[0m \u001b[0;32mfrom\u001b[0m \u001b[0mtqdm\u001b[0m \u001b[0;32mimport\u001b[0m \u001b[0mtqdm_notebook\u001b[0m\u001b[0;34m\u001b[0m\u001b[0;34m\u001b[0m\u001b[0m\n\u001b[0;32m----> 7\u001b[0;31m \u001b[0;32mfrom\u001b[0m \u001b[0mgensim\u001b[0m \u001b[0;32mimport\u001b[0m \u001b[0mutils\u001b[0m\u001b[0;34m\u001b[0m\u001b[0;34m\u001b[0m\u001b[0m\n\u001b[0m",
      "\u001b[0;31mModuleNotFoundError\u001b[0m: No module named 'gensim'"
     ]
    }
   ],
   "source": [
    "from yargy import Parser, rule, and_, or_, not_\n",
    "from yargy.interpretation import fact, attribute\n",
    "from yargy.predicates import gram, is_capitalized, dictionary, eq\n",
    "import re\n",
    "import pandas as pd\n",
    "from tqdm import tqdm_notebook\n",
    "from gensim import utils"
   ]
  },
  {
   "cell_type": "code",
   "execution_count": 22,
   "metadata": {},
   "outputs": [
    {
     "name": "stdout",
     "output_type": "stream",
     "text": [
      "Collecting gensim\n",
      "\u001b[?25l  Downloading https://files.pythonhosted.org/packages/b3/54/1d7294672110d5c0565cabc4b99ed952ced9a2dc2ca1d59ad1b34303a6de/gensim-3.8.1-cp37-cp37m-macosx_10_6_intel.macosx_10_9_intel.macosx_10_9_x86_64.macosx_10_10_intel.macosx_10_10_x86_64.whl (24.7MB)\n",
      "\u001b[K     |████████████████████████████████| 24.7MB 942kB/s eta 0:00:01    |█▋                              | 1.2MB 617kB/s eta 0:00:38\n",
      "\u001b[?25hRequirement already satisfied: scipy>=0.18.1 in ./opt/anaconda3/lib/python3.7/site-packages (from gensim) (1.3.1)\n",
      "Requirement already satisfied: numpy>=1.11.3 in ./opt/anaconda3/lib/python3.7/site-packages (from gensim) (1.17.2)\n",
      "Requirement already satisfied: six>=1.5.0 in ./opt/anaconda3/lib/python3.7/site-packages (from gensim) (1.12.0)\n",
      "Collecting smart-open>=1.8.1 (from gensim)\n",
      "\u001b[?25l  Downloading https://files.pythonhosted.org/packages/0c/09/735f2786dfac9bbf39d244ce75c0313d27d4962e71e0774750dc809f2395/smart_open-1.9.0.tar.gz (70kB)\n",
      "\u001b[K     |████████████████████████████████| 71kB 3.3MB/s eta 0:00:011\n",
      "\u001b[?25hRequirement already satisfied: boto>=2.32 in ./opt/anaconda3/lib/python3.7/site-packages (from smart-open>=1.8.1->gensim) (2.49.0)\n",
      "Requirement already satisfied: requests in ./opt/anaconda3/lib/python3.7/site-packages (from smart-open>=1.8.1->gensim) (2.22.0)\n",
      "Collecting boto3 (from smart-open>=1.8.1->gensim)\n",
      "\u001b[?25l  Downloading https://files.pythonhosted.org/packages/32/2e/8a9dec01e5b28012d1a4624a8d31b3531cb1f360735bc7b84282e8671223/boto3-1.12.8-py2.py3-none-any.whl (128kB)\n",
      "\u001b[K     |████████████████████████████████| 133kB 4.1MB/s eta 0:00:01\n",
      "\u001b[?25hRequirement already satisfied: urllib3!=1.25.0,!=1.25.1,<1.26,>=1.21.1 in ./opt/anaconda3/lib/python3.7/site-packages (from requests->smart-open>=1.8.1->gensim) (1.24.2)\n",
      "Requirement already satisfied: certifi>=2017.4.17 in ./opt/anaconda3/lib/python3.7/site-packages (from requests->smart-open>=1.8.1->gensim) (2019.9.11)\n",
      "Requirement already satisfied: chardet<3.1.0,>=3.0.2 in ./opt/anaconda3/lib/python3.7/site-packages (from requests->smart-open>=1.8.1->gensim) (3.0.4)\n",
      "Requirement already satisfied: idna<2.9,>=2.5 in ./opt/anaconda3/lib/python3.7/site-packages (from requests->smart-open>=1.8.1->gensim) (2.8)\n",
      "Collecting botocore<1.16.0,>=1.15.8 (from boto3->smart-open>=1.8.1->gensim)\n",
      "\u001b[?25l  Downloading https://files.pythonhosted.org/packages/bb/56/e4de91d2dfe22bbbfaa992ca4e64bcc533ecabe98f113269119c96c7b83d/botocore-1.15.8-py2.py3-none-any.whl (5.9MB)\n",
      "\u001b[K     |████████████████████████████████| 5.9MB 3.4MB/s eta 0:00:01\n",
      "\u001b[?25hCollecting jmespath<1.0.0,>=0.7.1 (from boto3->smart-open>=1.8.1->gensim)\n",
      "  Downloading https://files.pythonhosted.org/packages/a3/43/1e939e1fcd87b827fe192d0c9fc25b48c5b3368902bfb913de7754b0dc03/jmespath-0.9.5-py2.py3-none-any.whl\n",
      "Collecting s3transfer<0.4.0,>=0.3.0 (from boto3->smart-open>=1.8.1->gensim)\n",
      "\u001b[?25l  Downloading https://files.pythonhosted.org/packages/69/79/e6afb3d8b0b4e96cefbdc690f741d7dd24547ff1f94240c997a26fa908d3/s3transfer-0.3.3-py2.py3-none-any.whl (69kB)\n",
      "\u001b[K     |████████████████████████████████| 71kB 3.5MB/s eta 0:00:01\n",
      "\u001b[?25hRequirement already satisfied: python-dateutil<3.0.0,>=2.1 in ./opt/anaconda3/lib/python3.7/site-packages (from botocore<1.16.0,>=1.15.8->boto3->smart-open>=1.8.1->gensim) (2.8.0)\n",
      "Requirement already satisfied: docutils<0.16,>=0.10 in ./opt/anaconda3/lib/python3.7/site-packages (from botocore<1.16.0,>=1.15.8->boto3->smart-open>=1.8.1->gensim) (0.15.2)\n",
      "Building wheels for collected packages: smart-open\n",
      "  Building wheel for smart-open (setup.py) ... \u001b[?25ldone\n",
      "\u001b[?25h  Created wheel for smart-open: filename=smart_open-1.9.0-cp37-none-any.whl size=73088 sha256=ab8f1ea7e62391f8e0e3a3187c115822baa8549bb3e864349dfbb5d0e94dfc0d\n",
      "  Stored in directory: /Users/ilshatkhairakhun/Library/Caches/pip/wheels/ab/10/93/5cff86f5b721d77edaecc29959b1c60d894be1f66d91407d28\n",
      "Successfully built smart-open\n",
      "Installing collected packages: jmespath, botocore, s3transfer, boto3, smart-open, gensim\n",
      "Successfully installed boto3-1.12.8 botocore-1.15.8 gensim-3.8.1 jmespath-0.9.5 s3transfer-0.3.3 smart-open-1.9.0\n",
      "Note: you may need to restart the kernel to use updated packages.\n"
     ]
    }
   ],
   "source": [
    "pip install gensim"
   ]
  },
  {
   "cell_type": "code",
   "execution_count": 23,
   "metadata": {},
   "outputs": [],
   "source": [
    "from yargy import Parser, rule, and_, or_, not_\n",
    "from yargy.interpretation import fact, attribute\n",
    "from yargy.predicates import gram, is_capitalized, dictionary, eq\n",
    "import re\n",
    "import pandas as pd\n",
    "from tqdm import tqdm_notebook\n",
    "from gensim import utils"
   ]
  },
  {
   "cell_type": "code",
   "execution_count": 24,
   "metadata": {},
   "outputs": [],
   "source": [
    "START = rule(\n",
    "    or_(\n",
    "        rule(gram('ADJF')),\n",
    "        rule(gram('NOUN'))\n",
    "    ).optional(),\n",
    "    gram('NOUN')\n",
    ")\n",
    "\n",
    "START_S = or_(\n",
    "    eq('такой'),\n",
    "    eq('такие'),\n",
    ")\n",
    "\n",
    "KAK = eq('как')\n",
    "INCLUDING = or_(\n",
    "    or_(\n",
    "        eq('в'),\n",
    "        eq('том'),\n",
    "        eq('числе'),\n",
    "    ),\n",
    "    eq('включающий'),\n",
    "    or_(\n",
    "        eq('включающий'),\n",
    "        eq('в'),\n",
    "        eq('себя'),\n",
    "    ),\n",
    "    or_(\n",
    "        eq('включающие'),\n",
    "        eq('в'),\n",
    "        eq('себя'),\n",
    "    ),\n",
    "    eq('включающие'),\n",
    "    eq('особенно'),\n",
    "\n",
    ")\n",
    "\n",
    "MID_S = or_(\n",
    "    rule(\n",
    "        or_(\n",
    "            eq('такой'),\n",
    "            eq('такие'),\n",
    "        ),\n",
    "        eq('как')\n",
    "    )\n",
    ")\n",
    "ATAKJE = rule(\n",
    "    eq(','),\n",
    "    eq('а'),\n",
    "    eq('также')\n",
    ")\n",
    "\n",
    "MID = or_(\n",
    "    rule(\n",
    "        eq('это')\n",
    "    ),\n",
    "    rule(\n",
    "        eq('—')\n",
    "    ),\n",
    "    rule(\n",
    "        eq('—'),\n",
    "        eq('это')\n",
    "    ),\n",
    "    rule(\n",
    "        eq('—'),\n",
    "        not_(eq('км'))\n",
    "    ),\n",
    "    rule(\n",
    "        or_(\n",
    "            eq('и'),\n",
    "            eq('или'),\n",
    "        ),\n",
    "        eq('другие')\n",
    "    )\n",
    ")\n",
    "\n",
    "END = or_(\n",
    "    rule(\n",
    "        gram('NOUN'),\n",
    "        gram('NOUN')\n",
    "    ),\n",
    "    rule(\n",
    "        gram('ADJF').repeatable(),\n",
    "        gram('NOUN')\n",
    "    ),\n",
    "    rule(\n",
    "        gram('ADJF'),\n",
    "        gram('ADJF').repeatable(),\n",
    "        gram('NOUN')\n",
    "    ),\n",
    "    rule(\n",
    "        gram('NOUN').repeatable(),\n",
    "        gram('ADJF'),\n",
    "        gram('NOUN').repeatable()\n",
    "    ),\n",
    "    rule(\n",
    "        gram('NOUN').repeatable()\n",
    "    )\n",
    ")\n",
    "\n",
    "Item = fact(\n",
    "    'Item',\n",
    "    [attribute('titles').repeatable()]\n",
    ")\n",
    "\n",
    "\n",
    "IGNORE = rule(\n",
    "    '(',\n",
    "    not_(eq(')')).repeatable(),\n",
    "    ')'\n",
    ")\n",
    "\n",
    "ITEM = rule(\n",
    "    IGNORE.interpretation(\n",
    "        Item.titles\n",
    "    ),\n",
    "    eq(',').optional() \n",
    ").repeatable().interpretation(\n",
    "    Item\n",
    ")"
   ]
  },
  {
   "cell_type": "code",
   "execution_count": 25,
   "metadata": {},
   "outputs": [],
   "source": [
    "def get_hyperonyms(main_word):\n",
    "    HYPONYM = eq(utils.deaccent(main_word))\n",
    "    RULE = or_(\n",
    "        rule(HYPONYM, ATAKJE, START, MID, END),\n",
    "        rule(HYPONYM, MID, END),\n",
    "        rule(START_S, END, KAK, HYPONYM),\n",
    "        rule(END, INCLUDING, HYPONYM)\n",
    "    )\n",
    "    parser = Parser(RULE) \n",
    "    text = utils.deaccent(wikipedia.summary(main_word))\n",
    "    print(text)\n",
    "    text = re.sub(r'\\(.+?\\)', '', text)\n",
    "    text = text.lower().replace('* сергии радонежскии* ', '')\n",
    "    for idx, match in enumerate(parser.findall(text.lower())):\n",
    "        k = [_.value for _ in match.tokens]\n",
    "        print(k)"
   ]
  },
  {
   "cell_type": "code",
   "execution_count": 26,
   "metadata": {},
   "outputs": [
    {
     "name": "stdout",
     "output_type": "stream",
     "text": [
      "Повилика (лат. Cuscuta) — род паразитических растении семеиства Вьюнковые, все виды которого отнесены к категории карантинных сорняков.\n",
      "Ранее выделяли отдельное семеиство Повиликовые (Cuscutaceae), состоящее из одного рода — Повилика. Современные генетические исследования показали, что правильнее относить этот род к трибе Повиликовые семеиства Вьюнковые.\n"
     ]
    }
   ],
   "source": [
    "get_hyperonyms(\"ПОВИЛИКА\")"
   ]
  },
  {
   "cell_type": "code",
   "execution_count": null,
   "metadata": {},
   "outputs": [],
   "source": []
  }
 ],
 "metadata": {
  "kernelspec": {
   "display_name": "Python 3",
   "language": "python",
   "name": "python3"
  },
  "language_info": {
   "codemirror_mode": {
    "name": "ipython",
    "version": 3
   },
   "file_extension": ".py",
   "mimetype": "text/x-python",
   "name": "python",
   "nbconvert_exporter": "python",
   "pygments_lexer": "ipython3",
   "version": "3.7.4"
  }
 },
 "nbformat": 4,
 "nbformat_minor": 2
}
